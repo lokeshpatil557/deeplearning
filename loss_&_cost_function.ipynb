{
  "nbformat": 4,
  "nbformat_minor": 0,
  "metadata": {
    "colab": {
      "name": "loss & cost function.ipynb",
      "provenance": [],
      "authorship_tag": "ABX9TyO8BlTextrxBJ47NKfChd6g",
      "include_colab_link": true
    },
    "kernelspec": {
      "name": "python3",
      "display_name": "Python 3"
    },
    "language_info": {
      "name": "python"
    }
  },
  "cells": [
    {
      "cell_type": "markdown",
      "metadata": {
        "id": "view-in-github",
        "colab_type": "text"
      },
      "source": [
        "<a href=\"https://colab.research.google.com/github/lokeshpatil557/deeplearning/blob/master/loss_%26_cost_function.ipynb\" target=\"_parent\"><img src=\"https://colab.research.google.com/assets/colab-badge.svg\" alt=\"Open In Colab\"/></a>"
      ]
    },
    {
      "cell_type": "code",
      "source": [
        "import numpy as np\n",
        "from math import sqrt"
      ],
      "metadata": {
        "id": "_fUFbmKf95CK"
      },
      "execution_count": 38,
      "outputs": []
    },
    {
      "cell_type": "code",
      "source": [
        "ytrue=[0.70,0,1,0.30,0.5]\n",
        "ypred=[1,0,0,1,1]"
      ],
      "metadata": {
        "id": "8ukDeo3B7Uuq"
      },
      "execution_count": 39,
      "outputs": []
    },
    {
      "cell_type": "code",
      "source": [
        "ytrue=np.array(ytrue)"
      ],
      "metadata": {
        "id": "bH5jcsgVMgKq"
      },
      "execution_count": 40,
      "outputs": []
    },
    {
      "cell_type": "markdown",
      "source": [
        "MEAN ABSOLUTE ERROR"
      ],
      "metadata": {
        "id": "2M6Zp45SsFEv"
      }
    },
    {
      "cell_type": "code",
      "source": [
        "lerr=[]\n",
        "def mean_absolute_error(ytrue,ypred):\n",
        "  err=0\n",
        "  for yt,yp in zip(ytrue,ypred):\n",
        "    err+=abs(yt-yp)\n",
        "    print(err)\n",
        "    lerr.append(err)\n",
        "  print('total erroe',err)\n",
        "  mae=err/len(ytrue)\n",
        "  return mae\n",
        "me=mean_absolute_error(ytrue,ypred)\n",
        "print(\"mean_ansolute_error is\",me)"
      ],
      "metadata": {
        "id": "pAmlTCPL7_YH",
        "colab": {
          "base_uri": "https://localhost:8080/"
        },
        "outputId": "34efffb1-14fb-41b1-ad73-80d0287ad8aa"
      },
      "execution_count": 41,
      "outputs": [
        {
          "output_type": "stream",
          "name": "stdout",
          "text": [
            "0.30000000000000004\n",
            "0.30000000000000004\n",
            "1.3\n",
            "2.0\n",
            "2.5\n",
            "total erroe 2.5\n",
            "mean_ansolute_error is 0.5\n"
          ]
        }
      ]
    },
    {
      "cell_type": "markdown",
      "source": [
        "MEAN ABSOLUTE ERROER THROUGH NP"
      ],
      "metadata": {
        "id": "G_lAlMHwuqQC"
      }
    },
    {
      "cell_type": "code",
      "source": [
        "MAE=(np.abs(ytrue-ypred)).mean()\n",
        "MAE"
      ],
      "metadata": {
        "colab": {
          "base_uri": "https://localhost:8080/"
        },
        "id": "ujBI0Ld8uvVa",
        "outputId": "7ca782b4-50cb-40e1-a311-f9ec1970bb41"
      },
      "execution_count": 42,
      "outputs": [
        {
          "output_type": "execute_result",
          "data": {
            "text/plain": [
              "0.5"
            ]
          },
          "metadata": {},
          "execution_count": 42
        }
      ]
    },
    {
      "cell_type": "markdown",
      "source": [
        "MEAN ROOT SQUARE ERROR"
      ],
      "metadata": {
        "id": "yWzEjdv1s1m_"
      }
    },
    {
      "cell_type": "code",
      "source": [
        "def mean_root_square_error(ytrue,ypred):\n",
        "  err=0\n",
        "  for yt,yp in zip(ytrue,ypred):\n",
        "    err+=(yt-yp)**2\n",
        "  print(\"square error:\",err)\n",
        "  mrse=(err/len(ytrue))**(1/2)\n",
        "  return mrse\n",
        "ms=mean_root_square_error(ytrue,ypred)\n",
        "print('Mean square error is',ms)"
      ],
      "metadata": {
        "colab": {
          "base_uri": "https://localhost:8080/"
        },
        "id": "VQTVahmMsdtN",
        "outputId": "e53f247c-3296-4d91-b505-f93b46a63d6e"
      },
      "execution_count": 43,
      "outputs": [
        {
          "output_type": "stream",
          "name": "stdout",
          "text": [
            "square error: 1.83\n",
            "Mean square error is 0.6049793384901669\n"
          ]
        }
      ]
    },
    {
      "cell_type": "markdown",
      "source": [
        "MEAN SQUARE ERROR"
      ],
      "metadata": {
        "id": "fMfARtl9sLSD"
      }
    },
    {
      "cell_type": "code",
      "source": [
        "lerr=[]\n",
        "def mean_square_error(ytrue,ypred):\n",
        "  err=0\n",
        "  for yt,yp in zip(ytrue,ypred):\n",
        "    err+=abs(yt-yp)**2\n",
        "    print(err)\n",
        "    lerr.append(err)\n",
        "  print('total erroe',err)\n",
        "  mae=err/len(ytrue)\n",
        "  return mae\n",
        "me=mean_square_error(ytrue,ypred)\n",
        "print(\"mean_ansolute_error is\",me)"
      ],
      "metadata": {
        "colab": {
          "base_uri": "https://localhost:8080/"
        },
        "id": "IP57Ta05B7yy",
        "outputId": "8fce8702-802f-4d23-8473-0a98615735fb"
      },
      "execution_count": 44,
      "outputs": [
        {
          "output_type": "stream",
          "name": "stdout",
          "text": [
            "0.09000000000000002\n",
            "0.09000000000000002\n",
            "1.09\n",
            "1.58\n",
            "1.83\n",
            "total erroe 1.83\n",
            "mean_ansolute_error is 0.366\n"
          ]
        }
      ]
    },
    {
      "cell_type": "markdown",
      "source": [
        "MEAN SQUARE ERROR THROUGH NP"
      ],
      "metadata": {
        "id": "PA8-zIVIuhRJ"
      }
    },
    {
      "cell_type": "code",
      "source": [
        "MSE=np.square(np.subtract(ytrue,ypred)).mean()\n",
        "MSE"
      ],
      "metadata": {
        "colab": {
          "base_uri": "https://localhost:8080/"
        },
        "id": "iH3fJT-WtSCL",
        "outputId": "ac7db880-2477-4624-ec83-7f97607791cd"
      },
      "execution_count": 45,
      "outputs": [
        {
          "output_type": "execute_result",
          "data": {
            "text/plain": [
              "0.366"
            ]
          },
          "metadata": {},
          "execution_count": 45
        }
      ]
    },
    {
      "cell_type": "code",
      "source": [
        "l1=[100,200,300]\n",
        "l2=['a','b','c']     #for zip purpose\n",
        "z=zip(l1,l2)          #only for my reference\n",
        "print(z)"
      ],
      "metadata": {
        "colab": {
          "base_uri": "https://localhost:8080/"
        },
        "id": "aBInzn7W8Q_N",
        "outputId": "0d4bfaeb-eaf7-4a9b-a9f3-b94389d5f993"
      },
      "execution_count": 46,
      "outputs": [
        {
          "output_type": "stream",
          "name": "stdout",
          "text": [
            "<zip object at 0x7f5814a79410>\n"
          ]
        }
      ]
    },
    {
      "cell_type": "code",
      "source": [
        "for v in z:\n",
        "  print(v)         #only for my reference"
      ],
      "metadata": {
        "colab": {
          "base_uri": "https://localhost:8080/"
        },
        "id": "RNtN7COw8doN",
        "outputId": "01f9434e-d2c4-4ecc-8d3a-c5c3b09d3ebe"
      },
      "execution_count": 47,
      "outputs": [
        {
          "output_type": "stream",
          "name": "stdout",
          "text": [
            "(100, 'a')\n",
            "(200, 'b')\n",
            "(300, 'c')\n"
          ]
        }
      ]
    },
    {
      "cell_type": "code",
      "source": [
        "np.mean(np.abs(ytrue-ypred))"
      ],
      "metadata": {
        "colab": {
          "base_uri": "https://localhost:8080/"
        },
        "id": "LEya8DEXFecO",
        "outputId": "bf683f5f-15df-4895-ffe7-a5eddef1dcb1"
      },
      "execution_count": 48,
      "outputs": [
        {
          "output_type": "execute_result",
          "data": {
            "text/plain": [
              "0.5"
            ]
          },
          "metadata": {},
          "execution_count": 48
        }
      ]
    },
    {
      "cell_type": "code",
      "source": [
        "np.log(0.000000000001)"
      ],
      "metadata": {
        "colab": {
          "base_uri": "https://localhost:8080/"
        },
        "id": "qKz_tM9RGCd8",
        "outputId": "8b3ea0b0-d44c-4c61-c97d-472820298e08"
      },
      "execution_count": 49,
      "outputs": [
        {
          "output_type": "execute_result",
          "data": {
            "text/plain": [
              "-27.631021115928547"
            ]
          },
          "metadata": {},
          "execution_count": 49
        }
      ]
    },
    {
      "cell_type": "code",
      "source": [
        "ep=1e-15"
      ],
      "metadata": {
        "id": "7GM3p3CJG5_j"
      },
      "execution_count": 50,
      "outputs": []
    },
    {
      "cell_type": "code",
      "source": [
        "ypred_new=[max(i,ep) for i in ypred]\n",
        "ypred_new"
      ],
      "metadata": {
        "colab": {
          "base_uri": "https://localhost:8080/"
        },
        "id": "SPR-resFGspu",
        "outputId": "5ff01336-4eb4-4cf3-d8b8-92b3ca670180"
      },
      "execution_count": 51,
      "outputs": [
        {
          "output_type": "execute_result",
          "data": {
            "text/plain": [
              "[1, 1e-15, 1e-15, 1, 1]"
            ]
          },
          "metadata": {},
          "execution_count": 51
        }
      ]
    },
    {
      "cell_type": "code",
      "source": [
        "ypred_new=[min(i,1-ep)for i in ypred_new]\n",
        "ypred_new"
      ],
      "metadata": {
        "colab": {
          "base_uri": "https://localhost:8080/"
        },
        "id": "9zCVufAkHEmS",
        "outputId": "aec7fd13-2d51-4fe1-b346-adb4dd53dd5b"
      },
      "execution_count": 52,
      "outputs": [
        {
          "output_type": "execute_result",
          "data": {
            "text/plain": [
              "[0.999999999999999, 1e-15, 1e-15, 0.999999999999999, 0.999999999999999]"
            ]
          },
          "metadata": {},
          "execution_count": 52
        }
      ]
    },
    {
      "cell_type": "code",
      "source": [
        "ypred_new=np.array(ypred_new)\n",
        "ypred_new"
      ],
      "metadata": {
        "colab": {
          "base_uri": "https://localhost:8080/"
        },
        "id": "9f5pwQr4HYDc",
        "outputId": "6ca14e12-6895-42fd-f3cb-328f3a08e540"
      },
      "execution_count": 53,
      "outputs": [
        {
          "output_type": "execute_result",
          "data": {
            "text/plain": [
              "array([1.e+00, 1.e-15, 1.e-15, 1.e+00, 1.e+00])"
            ]
          },
          "metadata": {},
          "execution_count": 53
        }
      ]
    },
    {
      "cell_type": "code",
      "source": [
        ""
      ],
      "metadata": {
        "id": "Ra7E4H7dMC3a"
      },
      "execution_count": 53,
      "outputs": []
    },
    {
      "cell_type": "code",
      "source": [
        "np.log(ypred_new)"
      ],
      "metadata": {
        "colab": {
          "base_uri": "https://localhost:8080/"
        },
        "id": "viKeash1HqBW",
        "outputId": "09a64914-36c0-4783-8c2f-43bea276ce3b"
      },
      "execution_count": 54,
      "outputs": [
        {
          "output_type": "execute_result",
          "data": {
            "text/plain": [
              "array([-9.99200722e-16, -3.45387764e+01, -3.45387764e+01, -9.99200722e-16,\n",
              "       -9.99200722e-16])"
            ]
          },
          "metadata": {},
          "execution_count": 54
        }
      ]
    },
    {
      "cell_type": "code",
      "source": [
        "ytrue=np.array(ytrue)"
      ],
      "metadata": {
        "id": "fx7Rar9xMM4a"
      },
      "execution_count": 55,
      "outputs": []
    },
    {
      "cell_type": "code",
      "source": [
        "-np.mean(ytrue * np.log(ypred_new)+(1-ytrue) *(1-np.log(ypred_new)))"
      ],
      "metadata": {
        "colab": {
          "base_uri": "https://localhost:8080/"
        },
        "id": "0vVPefzGH68e",
        "outputId": "b1c67796-d375-41ae-daa3-2638fc43b0a7"
      },
      "execution_count": 56,
      "outputs": [
        {
          "output_type": "execute_result",
          "data": {
            "text/plain": [
              "-0.49999999999999944"
            ]
          },
          "metadata": {},
          "execution_count": 56
        }
      ]
    },
    {
      "cell_type": "code",
      "source": [
        "def log_loss(ytrue,ypred):\n",
        "  ep=1e-15\n",
        "  ypred_new=[max(i,ep) for i in ypred]\n",
        "  ypred_new=[min(i,1-ep)for i in ypred_new]\n",
        "  ypred_new=np.array(ypred_new)\n",
        "  return -np.mean(ytrue*np.log(ypred_new)+(1-ytrue)*(1-np.log(ypred_new)))"
      ],
      "metadata": {
        "id": "7ht6QnWgIoZp"
      },
      "execution_count": 57,
      "outputs": []
    },
    {
      "cell_type": "code",
      "source": [
        "log_loss(ytrue,ypred)"
      ],
      "metadata": {
        "colab": {
          "base_uri": "https://localhost:8080/"
        },
        "id": "ZvbESuxDJbxb",
        "outputId": "13a9778f-a897-4c8f-f61d-16776cab6f49"
      },
      "execution_count": 58,
      "outputs": [
        {
          "output_type": "execute_result",
          "data": {
            "text/plain": [
              "-0.49999999999999944"
            ]
          },
          "metadata": {},
          "execution_count": 58
        }
      ]
    },
    {
      "cell_type": "markdown",
      "source": [
        ""
      ],
      "metadata": {
        "id": "LU44Vf7PsXKK"
      }
    }
  ]
}